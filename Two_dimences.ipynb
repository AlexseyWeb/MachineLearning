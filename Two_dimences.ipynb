{
 "cells": [
  {
   "cell_type": "code",
   "execution_count": 1,
   "id": "c097c043-f1e5-4821-8552-c98a68901dd2",
   "metadata": {},
   "outputs": [],
   "source": [
    "import numpy as np"
   ]
  },
  {
   "cell_type": "markdown",
   "id": "e6adf76a-bf11-46ec-9122-33096bb65e36",
   "metadata": {
    "jp-MarkdownHeadingCollapsed": true
   },
   "source": [
    "# First Section"
   ]
  },
  {
   "cell_type": "code",
   "execution_count": 2,
   "id": "6706d294-0498-4bf7-a6f3-761c0cfff234",
   "metadata": {},
   "outputs": [],
   "source": [
    "first = np.array([[1,2,3], [4, 5, 6]])"
   ]
  },
  {
   "cell_type": "code",
   "execution_count": 3,
   "id": "b9075b1e-4807-4291-ab7b-bb6a7fd02f3a",
   "metadata": {},
   "outputs": [
    {
     "data": {
      "text/plain": [
       "array([[1, 2, 3],\n",
       "       [4, 5, 6]])"
      ]
     },
     "execution_count": 3,
     "metadata": {},
     "output_type": "execute_result"
    }
   ],
   "source": [
    "first\n"
   ]
  },
  {
   "cell_type": "code",
   "execution_count": 4,
   "id": "c588adf4-689a-4bf1-9464-16b5aabd80f7",
   "metadata": {},
   "outputs": [],
   "source": [
    "second = np.array([[7,8,9], [10, 11, 12]])"
   ]
  },
  {
   "cell_type": "code",
   "execution_count": 5,
   "id": "6277dda0-e511-4611-a86b-53b7d153d910",
   "metadata": {},
   "outputs": [
    {
     "data": {
      "text/plain": [
       "array([[ 8, 10, 12],\n",
       "       [14, 16, 18]])"
      ]
     },
     "execution_count": 5,
     "metadata": {},
     "output_type": "execute_result"
    }
   ],
   "source": [
    "first + second\n"
   ]
  },
  {
   "cell_type": "code",
   "execution_count": 6,
   "id": "517f6726-c74c-4ba6-854c-486437d8f820",
   "metadata": {},
   "outputs": [
    {
     "data": {
      "text/plain": [
       "array([[ 2,  4,  6],\n",
       "       [ 8, 10, 12]])"
      ]
     },
     "execution_count": 6,
     "metadata": {},
     "output_type": "execute_result"
    }
   ],
   "source": [
    "first * 2"
   ]
  },
  {
   "cell_type": "code",
   "execution_count": 7,
   "id": "a6089503-e9f2-4daa-8ba5-d092260467aa",
   "metadata": {},
   "outputs": [
    {
     "data": {
      "text/plain": [
       "array([[3.5, 4. , 4.5],\n",
       "       [5. , 5.5, 6. ]])"
      ]
     },
     "execution_count": 7,
     "metadata": {},
     "output_type": "execute_result"
    }
   ],
   "source": [
    "second / 2"
   ]
  },
  {
   "cell_type": "code",
   "execution_count": 9,
   "id": "57c957ff-ffd2-43e4-9d0f-97e5ba6ded29",
   "metadata": {},
   "outputs": [
    {
     "name": "stdout",
     "output_type": "stream",
     "text": [
      "3\n"
     ]
    }
   ],
   "source": [
    "print(first[0, 2])"
   ]
  },
  {
   "cell_type": "code",
   "execution_count": 10,
   "id": "e1d7e67a-12ef-4352-a8f3-630e2fc485c5",
   "metadata": {},
   "outputs": [
    {
     "name": "stdout",
     "output_type": "stream",
     "text": [
      "6\n"
     ]
    }
   ],
   "source": [
    "print(first[1,2])"
   ]
  },
  {
   "cell_type": "code",
   "execution_count": 12,
   "id": "61bebe70-26e0-42d6-a6d6-ecfbb42f9a6b",
   "metadata": {},
   "outputs": [
    {
     "data": {
      "text/plain": [
       "array([[ 1,  2,  3],\n",
       "       [ 4,  5,  6],\n",
       "       [ 7,  8,  9],\n",
       "       [10, 11, 12]])"
      ]
     },
     "execution_count": 12,
     "metadata": {},
     "output_type": "execute_result"
    }
   ],
   "source": [
    "np.concatenate((first, second))"
   ]
  },
  {
   "cell_type": "code",
   "execution_count": 13,
   "id": "27e1c0cb-263f-4bd0-96ed-9ab818196f11",
   "metadata": {},
   "outputs": [
    {
     "data": {
      "text/plain": [
       "array([[ 1,  2,  3,  7,  8,  9],\n",
       "       [ 4,  5,  6, 10, 11, 12]])"
      ]
     },
     "execution_count": 13,
     "metadata": {},
     "output_type": "execute_result"
    }
   ],
   "source": [
    "np.concatenate((first, second), axis=1)"
   ]
  },
  {
   "cell_type": "code",
   "execution_count": 15,
   "id": "385d7396-0efd-4c00-b91b-c230909f43b4",
   "metadata": {},
   "outputs": [
    {
     "data": {
      "text/plain": [
       "array([1, 2, 3, 4, 8, 2, 3, 4])"
      ]
     },
     "execution_count": 15,
     "metadata": {},
     "output_type": "execute_result"
    }
   ],
   "source": [
    "np.concatenate((np.array([1,2,3,4 ]), np.array([8, 2, 3, 4])))"
   ]
  },
  {
   "cell_type": "code",
   "execution_count": 18,
   "id": "38393c4b-9368-40d5-a1d7-0b645c85f949",
   "metadata": {},
   "outputs": [],
   "source": [
    "ar_zeros = np.zeros((3, 2), dtype=float)"
   ]
  },
  {
   "cell_type": "code",
   "execution_count": 19,
   "id": "8c1cf640-9e0d-4d58-b5c2-339e103623de",
   "metadata": {},
   "outputs": [
    {
     "data": {
      "text/plain": [
       "array([[0., 0.],\n",
       "       [0., 0.],\n",
       "       [0., 0.]])"
      ]
     },
     "execution_count": 19,
     "metadata": {},
     "output_type": "execute_result"
    }
   ],
   "source": [
    "ar_zeros"
   ]
  },
  {
   "cell_type": "code",
   "execution_count": 20,
   "id": "bdd00d0a-e1b7-44ad-bf30-a960eb825cfa",
   "metadata": {},
   "outputs": [],
   "source": [
    "one_arr = np.ones((3, 4))"
   ]
  },
  {
   "cell_type": "code",
   "execution_count": 21,
   "id": "5b742da6-b825-4512-8f00-427500f7b340",
   "metadata": {},
   "outputs": [
    {
     "data": {
      "text/plain": [
       "array([[1., 1., 1., 1.],\n",
       "       [1., 1., 1., 1.],\n",
       "       [1., 1., 1., 1.]])"
      ]
     },
     "execution_count": 21,
     "metadata": {},
     "output_type": "execute_result"
    }
   ],
   "source": [
    "one_arr"
   ]
  },
  {
   "cell_type": "code",
   "execution_count": 26,
   "id": "bf793b1d-4b2a-4bc0-bf16-6e92eb9976ac",
   "metadata": {},
   "outputs": [
    {
     "data": {
      "text/plain": [
       "array([0.45352178, 0.08327852, 0.9903832 , 0.85208588, 0.28345157,\n",
       "       0.49357824, 0.65527306, 0.11002075, 0.90935542, 0.78002968,\n",
       "       0.64457556, 0.26545004, 0.06230473, 0.39101052, 0.52281936,\n",
       "       0.79261622, 0.86304985, 0.16959818, 0.68861607, 0.70613262,\n",
       "       0.61675194, 0.58240257, 0.66461868, 0.21198049, 0.37140341,\n",
       "       0.03332993, 0.43758614, 0.71017997, 0.13672794, 0.86502681,\n",
       "       0.65082202, 0.66498462, 0.58836913])"
      ]
     },
     "execution_count": 26,
     "metadata": {},
     "output_type": "execute_result"
    }
   ],
   "source": [
    "np.random.random(33)"
   ]
  },
  {
   "cell_type": "code",
   "execution_count": 28,
   "id": "adbb100f-550c-42bc-ad3f-27c53acc0b32",
   "metadata": {},
   "outputs": [
    {
     "data": {
      "text/plain": [
       "array([[12, 12, 18, 18],\n",
       "       [18, 18, 18, 11]], dtype=int32)"
      ]
     },
     "execution_count": 28,
     "metadata": {},
     "output_type": "execute_result"
    }
   ],
   "source": [
    "np.random.randint(10, 20, size=(2, 4))"
   ]
  },
  {
   "cell_type": "code",
   "execution_count": 33,
   "id": "f7a5063d-4fe3-46ab-a795-8cea085b4089",
   "metadata": {},
   "outputs": [
    {
     "data": {
      "text/plain": [
       "array([[18.74741582, 35.43608879, 28.79225619, 27.22319501, 12.59895254,\n",
       "        32.62494087, 29.83930242, 39.06211257],\n",
       "       [27.96705403, 42.48878585, 34.43921936, 23.70043215, 21.2778306 ,\n",
       "        23.47502263, 48.52605475, 19.69074486],\n",
       "       [10.37409869, 24.94629217, 37.93917177, 13.87283288, 36.61247764,\n",
       "        27.49776149, 28.16554187, 13.83350375]])"
      ]
     },
     "execution_count": 33,
     "metadata": {},
     "output_type": "execute_result"
    }
   ],
   "source": [
    "np.random.uniform(10, 50, size=(3, 8))"
   ]
  },
  {
   "cell_type": "code",
   "execution_count": 35,
   "id": "d317ec11-e996-4186-9d2b-abcebeb48dc1",
   "metadata": {},
   "outputs": [
    {
     "data": {
      "text/plain": [
       "array([1, 3, 1, 2, 1, 2, 1, 1, 1, 3, 2, 3, 1, 2, 3, 1, 2, 3, 2, 1])"
      ]
     },
     "execution_count": 35,
     "metadata": {},
     "output_type": "execute_result"
    }
   ],
   "source": [
    "np.random.choice(np.array([1,2,3]), size=20)"
   ]
  },
  {
   "cell_type": "markdown",
   "id": "f936fb05-b5b7-4985-9227-f647449e346e",
   "metadata": {
    "jp-MarkdownHeadingCollapsed": true
   },
   "source": [
    "## Calculator Total and average orders\n"
   ]
  },
  {
   "cell_type": "code",
   "execution_count": 36,
   "id": "72fc0619-c335-47f4-8275-f2dc46f119ba",
   "metadata": {},
   "outputs": [],
   "source": [
    "order_qty = np.array([[1, 2, 3, 4], [7, 8, 9, 10]])"
   ]
  },
  {
   "cell_type": "code",
   "execution_count": 37,
   "id": "50d4f27c-8e11-41e4-9f04-802e1443c95b",
   "metadata": {},
   "outputs": [
    {
     "data": {
      "text/plain": [
       "array([[ 1,  2,  3,  4],\n",
       "       [ 7,  8,  9, 10]])"
      ]
     },
     "execution_count": 37,
     "metadata": {},
     "output_type": "execute_result"
    }
   ],
   "source": [
    "order_qty"
   ]
  },
  {
   "cell_type": "code",
   "execution_count": 40,
   "id": "b45aa66b-d8f9-4492-bbfe-b7e16e337d22",
   "metadata": {},
   "outputs": [],
   "source": [
    "total_qty = np.sum(order_qty, axis=0)"
   ]
  },
  {
   "cell_type": "code",
   "execution_count": 41,
   "id": "a21b4fda-5873-46b9-a379-698bd301d4b0",
   "metadata": {},
   "outputs": [
    {
     "data": {
      "text/plain": [
       "array([ 8, 10, 12, 14])"
      ]
     },
     "execution_count": 41,
     "metadata": {},
     "output_type": "execute_result"
    }
   ],
   "source": [
    "total_qty"
   ]
  },
  {
   "cell_type": "code",
   "execution_count": 42,
   "id": "afc9219f-af36-4687-afc6-cae3e386ef30",
   "metadata": {},
   "outputs": [],
   "source": [
    "average_qty = np.mean(order_qty, axis=0)"
   ]
  },
  {
   "cell_type": "code",
   "execution_count": 43,
   "id": "228e4815-b702-476b-bceb-f16933b4619d",
   "metadata": {},
   "outputs": [
    {
     "data": {
      "text/plain": [
       "array([4., 5., 6., 7.])"
      ]
     },
     "execution_count": 43,
     "metadata": {},
     "output_type": "execute_result"
    }
   ],
   "source": [
    "average_qty"
   ]
  },
  {
   "cell_type": "code",
   "execution_count": 44,
   "id": "cfa6729d-eca3-4a75-abe9-d3e1fc26f2ec",
   "metadata": {},
   "outputs": [],
   "source": [
    "average_qty = np.mean(order_qty, axis=1)"
   ]
  },
  {
   "cell_type": "code",
   "execution_count": 45,
   "id": "8031fc4d-415c-4ca8-91eb-71f531748b19",
   "metadata": {},
   "outputs": [
    {
     "data": {
      "text/plain": [
       "array([2.5, 8.5])"
      ]
     },
     "execution_count": 45,
     "metadata": {},
     "output_type": "execute_result"
    }
   ],
   "source": [
    "average_qty"
   ]
  },
  {
   "cell_type": "markdown",
   "id": "28fa1403-088f-4c99-ae80-49682a7a339d",
   "metadata": {
    "jp-MarkdownHeadingCollapsed": true
   },
   "source": [
    "# Next section\n"
   ]
  },
  {
   "cell_type": "code",
   "execution_count": 47,
   "id": "3c63cb96-e6d9-4caa-be82-eb7794e9bf64",
   "metadata": {},
   "outputs": [],
   "source": [
    "product_rating = np.array([[4.5, 3.2, 4.7], [4.3, 3.8, 2.8], [3.5, 4.2, 2.0]])"
   ]
  },
  {
   "cell_type": "code",
   "execution_count": 48,
   "id": "5f79c94c-9381-4e87-8982-19dcda89e187",
   "metadata": {},
   "outputs": [],
   "source": [
    "average_category = np.mean(product_rating, axis=1)"
   ]
  },
  {
   "cell_type": "code",
   "execution_count": 49,
   "id": "52c5a3eb-1682-403c-9e6e-f376221dcd5b",
   "metadata": {},
   "outputs": [
    {
     "data": {
      "text/plain": [
       "array([4.13333333, 3.63333333, 3.23333333])"
      ]
     },
     "execution_count": 49,
     "metadata": {},
     "output_type": "execute_result"
    }
   ],
   "source": [
    "average_category"
   ]
  },
  {
   "cell_type": "code",
   "execution_count": 50,
   "id": "d74eb7cd-fc6f-4912-909a-66f3cde5eaf3",
   "metadata": {},
   "outputs": [],
   "source": [
    "aver_cat_per = np.mean(product_rating, axis=0)"
   ]
  },
  {
   "cell_type": "code",
   "execution_count": 51,
   "id": "5d8c01ec-55a4-48ff-a58e-3bfbece7ef4b",
   "metadata": {},
   "outputs": [
    {
     "data": {
      "text/plain": [
       "array([4.1       , 3.73333333, 3.16666667])"
      ]
     },
     "execution_count": 51,
     "metadata": {},
     "output_type": "execute_result"
    }
   ],
   "source": [
    "aver_cat_per"
   ]
  },
  {
   "cell_type": "code",
   "execution_count": 52,
   "id": "9a787a87-29cf-4fde-b19b-98c1ddb9ad91",
   "metadata": {},
   "outputs": [],
   "source": [
    "max_rating = np.max(product_rating, axis=0)"
   ]
  },
  {
   "cell_type": "code",
   "execution_count": 53,
   "id": "abbaec84-633c-4473-ada9-c9a7dc27b89b",
   "metadata": {},
   "outputs": [
    {
     "data": {
      "text/plain": [
       "array([4.5, 4.2, 4.7])"
      ]
     },
     "execution_count": 53,
     "metadata": {},
     "output_type": "execute_result"
    }
   ],
   "source": [
    "max_rating"
   ]
  },
  {
   "cell_type": "markdown",
   "id": "a6bcb7df-2191-4ca4-86d4-c8bede5ae950",
   "metadata": {
    "jp-MarkdownHeadingCollapsed": true
   },
   "source": [
    "# Generation of the sample stock data"
   ]
  },
  {
   "cell_type": "code",
   "execution_count": 54,
   "id": "b8ab8e8d-af4c-454e-9130-b04bbfe76b96",
   "metadata": {},
   "outputs": [],
   "source": [
    "companies = ['Google', 'Apple', 'Yandex']"
   ]
  },
  {
   "cell_type": "code",
   "execution_count": 55,
   "id": "6e66a380-5d05-4294-ab4c-db2d1fafba85",
   "metadata": {},
   "outputs": [],
   "source": [
    "days = ['Monday 1 April', 'Thuesday 2 December']"
   ]
  },
  {
   "cell_type": "code",
   "execution_count": 56,
   "id": "26428980-7cf2-4494-82d1-a847d0b8ea2d",
   "metadata": {},
   "outputs": [],
   "source": [
    "price_types = ['Open', 'Close', 'High', 'Low']"
   ]
  },
  {
   "cell_type": "code",
   "execution_count": 61,
   "id": "a67d11b0-d991-4042-ad05-f87b0b9fdcca",
   "metadata": {},
   "outputs": [],
   "source": [
    "np.random.seed(1)\n",
    "stock_prices = np.round(np.random.random((len(companies), len(days), len(price_types))), 3)"
   ]
  },
  {
   "cell_type": "code",
   "execution_count": 62,
   "id": "0312d43f-cbc9-4d28-a017-e971a5bd2505",
   "metadata": {},
   "outputs": [
    {
     "data": {
      "text/plain": [
       "array([[[0.417, 0.72 , 0.   , 0.302],\n",
       "        [0.147, 0.092, 0.186, 0.346]],\n",
       "\n",
       "       [[0.397, 0.539, 0.419, 0.685],\n",
       "        [0.204, 0.878, 0.027, 0.67 ]],\n",
       "\n",
       "       [[0.417, 0.559, 0.14 , 0.198],\n",
       "        [0.801, 0.968, 0.313, 0.692]]])"
      ]
     },
     "execution_count": 62,
     "metadata": {},
     "output_type": "execute_result"
    }
   ],
   "source": [
    "stock_prices"
   ]
  },
  {
   "cell_type": "code",
   "execution_count": 63,
   "id": "fb939b44-ab2e-45eb-b6bb-9fa661b3f716",
   "metadata": {},
   "outputs": [
    {
     "data": {
      "text/plain": [
       "(3, 2, 4)"
      ]
     },
     "execution_count": 63,
     "metadata": {},
     "output_type": "execute_result"
    }
   ],
   "source": [
    "stock_prices.shape"
   ]
  },
  {
   "cell_type": "code",
   "execution_count": 65,
   "id": "c872dba3-7245-4b52-aa3b-55bb18170bce",
   "metadata": {},
   "outputs": [
    {
     "name": "stdout",
     "output_type": "stream",
     "text": [
      "Stock prices for Google : \n",
      "Day : Monday 1 April\n",
      "Open : 0.417\n",
      "Close : 0.72\n",
      "High : 0.0\n",
      "Low : 0.302\n",
      "\n",
      "Day : Thuesday 2 December\n",
      "Open : 0.147\n",
      "Close : 0.092\n",
      "High : 0.186\n",
      "Low : 0.346\n",
      "\n",
      "\n",
      "Stock prices for Apple : \n",
      "Day : Monday 1 April\n",
      "Open : 0.397\n",
      "Close : 0.539\n",
      "High : 0.419\n",
      "Low : 0.685\n",
      "\n",
      "Day : Thuesday 2 December\n",
      "Open : 0.204\n",
      "Close : 0.878\n",
      "High : 0.027\n",
      "Low : 0.67\n",
      "\n",
      "\n",
      "Stock prices for Yandex : \n",
      "Day : Monday 1 April\n",
      "Open : 0.417\n",
      "Close : 0.559\n",
      "High : 0.14\n",
      "Low : 0.198\n",
      "\n",
      "Day : Thuesday 2 December\n",
      "Open : 0.801\n",
      "Close : 0.968\n",
      "High : 0.313\n",
      "Low : 0.692\n",
      "\n",
      "\n"
     ]
    }
   ],
   "source": [
    "for i, company in enumerate(companies):\n",
    "    print(f\"Stock prices for {company} : \")\n",
    "    for j, day in enumerate(days):\n",
    "        print(f\"Day : {day}\")\n",
    "        for k, price in enumerate(price_types):\n",
    "            print(f\"{price} : {stock_prices[i,j,k]}\")\n",
    "        print()\n",
    "    print()"
   ]
  },
  {
   "cell_type": "code",
   "execution_count": null,
   "id": "a2fbca78-a215-4fab-81a5-b566913c2b97",
   "metadata": {},
   "outputs": [],
   "source": []
  }
 ],
 "metadata": {
  "kernelspec": {
   "display_name": "Python 3 (ipykernel)",
   "language": "python",
   "name": "python3"
  },
  "language_info": {
   "codemirror_mode": {
    "name": "ipython",
    "version": 3
   },
   "file_extension": ".py",
   "mimetype": "text/x-python",
   "name": "python",
   "nbconvert_exporter": "python",
   "pygments_lexer": "ipython3",
   "version": "3.12.5"
  }
 },
 "nbformat": 4,
 "nbformat_minor": 5
}
