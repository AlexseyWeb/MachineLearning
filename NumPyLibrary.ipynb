{
 "cells": [
  {
   "cell_type": "code",
   "execution_count": 1,
   "id": "ba828e91-bdae-4427-908c-f5114e1cedd9",
   "metadata": {},
   "outputs": [],
   "source": [
    "import numpy as np"
   ]
  },
  {
   "cell_type": "code",
   "execution_count": 2,
   "id": "434f023e-30f0-42a8-829c-411670939c18",
   "metadata": {},
   "outputs": [],
   "source": [
    "nums_ar = np.array([1, 2, 3, 4])"
   ]
  },
  {
   "cell_type": "code",
   "execution_count": 4,
   "id": "8f2a6b67-645b-4ff9-993c-32f66eac2e5f",
   "metadata": {},
   "outputs": [
    {
     "name": "stdout",
     "output_type": "stream",
     "text": [
      "4\n"
     ]
    }
   ],
   "source": [
    "print(nums_ar[-1])"
   ]
  },
  {
   "cell_type": "code",
   "execution_count": 5,
   "id": "2533be98-773c-4588-b956-8d80574b8f38",
   "metadata": {},
   "outputs": [
    {
     "data": {
      "text/plain": [
       "(4,)"
      ]
     },
     "execution_count": 5,
     "metadata": {},
     "output_type": "execute_result"
    }
   ],
   "source": [
    "nums_ar.shape\n"
   ]
  },
  {
   "cell_type": "code",
   "execution_count": 7,
   "id": "a6d69367-8965-4c18-aec4-36161aea5483",
   "metadata": {},
   "outputs": [
    {
     "name": "stdout",
     "output_type": "stream",
     "text": [
      "2.5\n"
     ]
    }
   ],
   "source": [
    "print(nums_ar.mean())"
   ]
  },
  {
   "cell_type": "code",
   "execution_count": 8,
   "id": "e1966301-c7f5-4345-a518-a3f5ea65125e",
   "metadata": {},
   "outputs": [
    {
     "data": {
      "text/plain": [
       "4"
      ]
     },
     "execution_count": 8,
     "metadata": {},
     "output_type": "execute_result"
    }
   ],
   "source": [
    "nums_ar.size"
   ]
  },
  {
   "cell_type": "code",
   "execution_count": 9,
   "id": "e0d8888c-2cf3-4346-93d0-72a44277ff51",
   "metadata": {},
   "outputs": [
    {
     "data": {
      "text/plain": [
       "dtype('int64')"
      ]
     },
     "execution_count": 9,
     "metadata": {},
     "output_type": "execute_result"
    }
   ],
   "source": [
    "nums_ar.dtype"
   ]
  },
  {
   "cell_type": "code",
   "execution_count": 10,
   "id": "86b7ee50-4f70-475d-84f2-70d446f909bb",
   "metadata": {},
   "outputs": [
    {
     "data": {
      "text/plain": [
       "8"
      ]
     },
     "execution_count": 10,
     "metadata": {},
     "output_type": "execute_result"
    }
   ],
   "source": [
    "nums_ar.itemsize"
   ]
  },
  {
   "cell_type": "code",
   "execution_count": null,
   "id": "ea145183-aa84-4c16-b29e-f449e39f456e",
   "metadata": {},
   "outputs": [],
   "source": []
  }
 ],
 "metadata": {
  "kernelspec": {
   "display_name": "Python 3 (ipykernel)",
   "language": "python",
   "name": "python3"
  },
  "language_info": {
   "codemirror_mode": {
    "name": "ipython",
    "version": 3
   },
   "file_extension": ".py",
   "mimetype": "text/x-python",
   "name": "python",
   "nbconvert_exporter": "python",
   "pygments_lexer": "ipython3",
   "version": "3.12.5"
  }
 },
 "nbformat": 4,
 "nbformat_minor": 5
}
